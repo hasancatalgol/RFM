{
 "cells": [
  {
   "cell_type": "markdown",
   "id": "b5ae08f0",
   "metadata": {},
   "source": [
    "# RFM ANALYSIS\n",
    "## Overview\n",
    "RFM is a classic Lifetime and Responsiveness segmentation model. It has been trialed and tested over the years and is a great starting point for any retailer including eCommerce companies looking to manage their customer base more proactively. \n",
    "\n",
    "\n",
    "\n",
    "### Goal: \n",
    "\n",
    "Those who exhibit common behaviors are in the same groups.sales and marketing specific to these groups. Feedback will be given on the development of techniques.\n",
    "\n",
    "\n",
    "----\n",
    "\n",
    "## Part One: Understanding the Background and Data\n",
    "\n",
    "Dataset named Online Retail II UK based online store Between 01/12/2009 - 09/12/2011 includes sales. Souvenirs in the product catalog of this company items are included. As promotional items can also be considered.It is also known that most of its customers are wholesalers available.\n",
    "\n",
    "https://archive.ics.uci.edu/ml/datasets/Online+Retail+II"
   ]
  },
  {
   "cell_type": "markdown",
   "id": "79cadd09",
   "metadata": {},
   "source": [
    "----\n",
    "\n",
    "\n",
    "### The Data\n",
    "\n",
    "\n",
    "\n",
    "#### online_retail_II.xlsx"
   ]
  },
  {
   "cell_type": "markdown",
   "id": "af646229",
   "metadata": {},
   "source": [
    "Variable | Definition | Type of Variable\n",
    "--- | ----------- | --------\n",
    "InvoiceNo | Invoice number. 6-digit integral number uniquely assigned to each transaction.  | Nominal\n",
    "          | **If this code starts with letter 'c', it indicates a cancellation.**\n",
    "StockCode | Product (item) code. 5-digit integral number uniquely assigned to each distinct product.| Nominal\n",
    "Description | Product (item) name. | Nominal\n",
    "Quantity | The quantities of each product (item) per transaction. | Numeric\n",
    "InvoiceDate | Invoice Date and time. The day and time when each transaction was generated.| Numeric\n",
    "UnitPrice|  Unit price. Product price per unit in £ (in GBP) |  Numeric\n",
    "CustomerID | Customer number. 5-digit integral number uniquely assigned to each customer.| Nominal\n",
    "Country | Country name. The name of the country where each customer resides. | Nominal"
   ]
  },
  {
   "cell_type": "markdown",
   "id": "f6a1c26a",
   "metadata": {},
   "source": [
    "**Import libraries**"
   ]
  },
  {
   "cell_type": "code",
   "execution_count": 1,
   "id": "fa773396",
   "metadata": {},
   "outputs": [],
   "source": [
    "import pandas as pd\n",
    "import numpy as np\n",
    "import seaborn as sns\n",
    "import matplotlib.pyplot as plt\n",
    "import datetime as dt\n",
    "import statsmodels.api as sm\n",
    "\n",
    "import plotly.express as px\n",
    "import plotly.graph_objects as go\n",
    "from plotly.subplots import make_subplots\n",
    "\n",
    "# Displaying all rows and columns\n",
    "pd.set_option('display.max_columns', None); \n",
    "pd.set_option('display.max_rows', None);\n",
    "\n",
    "# Configuring significant figures\n",
    "pd.set_option('display.float_format', lambda x: '%.2f' % x)"
   ]
  },
  {
   "cell_type": "markdown",
   "id": "e65d7fcb",
   "metadata": {},
   "source": [
    "**Read \"online_retail.xlsx\" file**"
   ]
  },
  {
   "cell_type": "code",
   "execution_count": 2,
   "id": "b064e0a1",
   "metadata": {},
   "outputs": [
    {
     "data": {
      "text/html": [
       "<div>\n",
       "<style scoped>\n",
       "    .dataframe tbody tr th:only-of-type {\n",
       "        vertical-align: middle;\n",
       "    }\n",
       "\n",
       "    .dataframe tbody tr th {\n",
       "        vertical-align: top;\n",
       "    }\n",
       "\n",
       "    .dataframe thead th {\n",
       "        text-align: right;\n",
       "    }\n",
       "</style>\n",
       "<table border=\"1\" class=\"dataframe\">\n",
       "  <thead>\n",
       "    <tr style=\"text-align: right;\">\n",
       "      <th></th>\n",
       "      <th>Invoice</th>\n",
       "      <th>StockCode</th>\n",
       "      <th>Description</th>\n",
       "      <th>Quantity</th>\n",
       "      <th>InvoiceDate</th>\n",
       "      <th>Price</th>\n",
       "      <th>Customer ID</th>\n",
       "      <th>Country</th>\n",
       "    </tr>\n",
       "  </thead>\n",
       "  <tbody>\n",
       "    <tr>\n",
       "      <th>0</th>\n",
       "      <td>489434</td>\n",
       "      <td>85048</td>\n",
       "      <td>15CM CHRISTMAS GLASS BALL 20 LIGHTS</td>\n",
       "      <td>12</td>\n",
       "      <td>2009-12-01 07:45:00</td>\n",
       "      <td>6.95</td>\n",
       "      <td>13085.00</td>\n",
       "      <td>United Kingdom</td>\n",
       "    </tr>\n",
       "    <tr>\n",
       "      <th>1</th>\n",
       "      <td>489434</td>\n",
       "      <td>79323P</td>\n",
       "      <td>PINK CHERRY LIGHTS</td>\n",
       "      <td>12</td>\n",
       "      <td>2009-12-01 07:45:00</td>\n",
       "      <td>6.75</td>\n",
       "      <td>13085.00</td>\n",
       "      <td>United Kingdom</td>\n",
       "    </tr>\n",
       "    <tr>\n",
       "      <th>2</th>\n",
       "      <td>489434</td>\n",
       "      <td>79323W</td>\n",
       "      <td>WHITE CHERRY LIGHTS</td>\n",
       "      <td>12</td>\n",
       "      <td>2009-12-01 07:45:00</td>\n",
       "      <td>6.75</td>\n",
       "      <td>13085.00</td>\n",
       "      <td>United Kingdom</td>\n",
       "    </tr>\n",
       "    <tr>\n",
       "      <th>3</th>\n",
       "      <td>489434</td>\n",
       "      <td>22041</td>\n",
       "      <td>RECORD FRAME 7\" SINGLE SIZE</td>\n",
       "      <td>48</td>\n",
       "      <td>2009-12-01 07:45:00</td>\n",
       "      <td>2.10</td>\n",
       "      <td>13085.00</td>\n",
       "      <td>United Kingdom</td>\n",
       "    </tr>\n",
       "    <tr>\n",
       "      <th>4</th>\n",
       "      <td>489434</td>\n",
       "      <td>21232</td>\n",
       "      <td>STRAWBERRY CERAMIC TRINKET BOX</td>\n",
       "      <td>24</td>\n",
       "      <td>2009-12-01 07:45:00</td>\n",
       "      <td>1.25</td>\n",
       "      <td>13085.00</td>\n",
       "      <td>United Kingdom</td>\n",
       "    </tr>\n",
       "  </tbody>\n",
       "</table>\n",
       "</div>"
      ],
      "text/plain": [
       "  Invoice StockCode                          Description  Quantity  \\\n",
       "0  489434     85048  15CM CHRISTMAS GLASS BALL 20 LIGHTS        12   \n",
       "1  489434    79323P                   PINK CHERRY LIGHTS        12   \n",
       "2  489434    79323W                  WHITE CHERRY LIGHTS        12   \n",
       "3  489434     22041         RECORD FRAME 7\" SINGLE SIZE         48   \n",
       "4  489434     21232       STRAWBERRY CERAMIC TRINKET BOX        24   \n",
       "\n",
       "          InvoiceDate  Price  Customer ID         Country  \n",
       "0 2009-12-01 07:45:00   6.95     13085.00  United Kingdom  \n",
       "1 2009-12-01 07:45:00   6.75     13085.00  United Kingdom  \n",
       "2 2009-12-01 07:45:00   6.75     13085.00  United Kingdom  \n",
       "3 2009-12-01 07:45:00   2.10     13085.00  United Kingdom  \n",
       "4 2009-12-01 07:45:00   1.25     13085.00  United Kingdom  "
      ]
     },
     "execution_count": 2,
     "metadata": {},
     "output_type": "execute_result"
    }
   ],
   "source": [
    "df_ = pd.read_excel(\"Data/online_retail_II.xlsx\",\n",
    "                    sheet_name=\"Year 2009-2010\")\n",
    "\n",
    "df = df_.copy()\n",
    "df.head()"
   ]
  },
  {
   "cell_type": "markdown",
   "id": "7e2a009d",
   "metadata": {},
   "source": [
    "**Counting number of missing/null values in every variable**"
   ]
  },
  {
   "cell_type": "code",
   "execution_count": 3,
   "id": "62a6f194",
   "metadata": {},
   "outputs": [
    {
     "data": {
      "text/plain": [
       "Invoice             0\n",
       "StockCode           0\n",
       "Description      2928\n",
       "Quantity            0\n",
       "InvoiceDate         0\n",
       "Price               0\n",
       "Customer ID    107927\n",
       "Country             0\n",
       "dtype: int64"
      ]
     },
     "execution_count": 3,
     "metadata": {},
     "output_type": "execute_result"
    }
   ],
   "source": [
    "df.isnull().sum()"
   ]
  },
  {
   "cell_type": "markdown",
   "id": "5717d572",
   "metadata": {},
   "source": [
    "**Total number of unique products**"
   ]
  },
  {
   "cell_type": "code",
   "execution_count": 4,
   "id": "55ae77d2",
   "metadata": {},
   "outputs": [
    {
     "data": {
      "text/plain": [
       "4681"
      ]
     },
     "execution_count": 4,
     "metadata": {},
     "output_type": "execute_result"
    }
   ],
   "source": [
    "df[\"Description\"].nunique()"
   ]
  },
  {
   "cell_type": "markdown",
   "id": "619803b0",
   "metadata": {},
   "source": [
    "**Total quantities of unique products**"
   ]
  },
  {
   "cell_type": "code",
   "execution_count": 5,
   "id": "70c531ef",
   "metadata": {},
   "outputs": [
    {
     "data": {
      "text/plain": [
       "WHITE HANGING HEART T-LIGHT HOLDER    3549\n",
       "REGENCY CAKESTAND 3 TIER              2212\n",
       "STRAWBERRY CERAMIC TRINKET BOX        1843\n",
       "PACK OF 72 RETRO SPOT CAKE CASES      1466\n",
       "ASSORTED COLOUR BIRD ORNAMENT         1457\n",
       "Name: Description, dtype: int64"
      ]
     },
     "execution_count": 5,
     "metadata": {},
     "output_type": "execute_result"
    }
   ],
   "source": [
    "df[\"Description\"].value_counts().head()"
   ]
  },
  {
   "cell_type": "markdown",
   "id": "1d64b529",
   "metadata": {},
   "source": [
    "**The most ordered product**"
   ]
  },
  {
   "cell_type": "code",
   "execution_count": 6,
   "id": "93be3bec",
   "metadata": {},
   "outputs": [
    {
     "data": {
      "text/html": [
       "<div>\n",
       "<style scoped>\n",
       "    .dataframe tbody tr th:only-of-type {\n",
       "        vertical-align: middle;\n",
       "    }\n",
       "\n",
       "    .dataframe tbody tr th {\n",
       "        vertical-align: top;\n",
       "    }\n",
       "\n",
       "    .dataframe thead th {\n",
       "        text-align: right;\n",
       "    }\n",
       "</style>\n",
       "<table border=\"1\" class=\"dataframe\">\n",
       "  <thead>\n",
       "    <tr style=\"text-align: right;\">\n",
       "      <th></th>\n",
       "      <th>Quantity</th>\n",
       "    </tr>\n",
       "    <tr>\n",
       "      <th>Description</th>\n",
       "      <th></th>\n",
       "    </tr>\n",
       "  </thead>\n",
       "  <tbody>\n",
       "    <tr>\n",
       "      <th>WHITE HANGING HEART T-LIGHT HOLDER</th>\n",
       "      <td>57733</td>\n",
       "    </tr>\n",
       "    <tr>\n",
       "      <th>WORLD WAR 2 GLIDERS ASSTD DESIGNS</th>\n",
       "      <td>54698</td>\n",
       "    </tr>\n",
       "    <tr>\n",
       "      <th>BROCADE RING PURSE</th>\n",
       "      <td>47647</td>\n",
       "    </tr>\n",
       "    <tr>\n",
       "      <th>PACK OF 72 RETRO SPOT CAKE CASES</th>\n",
       "      <td>46106</td>\n",
       "    </tr>\n",
       "    <tr>\n",
       "      <th>ASSORTED COLOUR BIRD ORNAMENT</th>\n",
       "      <td>44925</td>\n",
       "    </tr>\n",
       "  </tbody>\n",
       "</table>\n",
       "</div>"
      ],
      "text/plain": [
       "                                    Quantity\n",
       "Description                                 \n",
       "WHITE HANGING HEART T-LIGHT HOLDER     57733\n",
       "WORLD WAR 2 GLIDERS ASSTD DESIGNS      54698\n",
       "BROCADE RING PURSE                     47647\n",
       "PACK OF 72 RETRO SPOT CAKE CASES       46106\n",
       "ASSORTED COLOUR BIRD ORNAMENT          44925"
      ]
     },
     "execution_count": 6,
     "metadata": {},
     "output_type": "execute_result"
    }
   ],
   "source": [
    "df.groupby(\"Description\").agg({\"Quantity\": \"sum\"}).sort_values(\"Quantity\", ascending=False).head()"
   ]
  },
  {
   "cell_type": "markdown",
   "id": "a58584a5",
   "metadata": {},
   "source": [
    "**Total Invoice quantity**"
   ]
  },
  {
   "cell_type": "code",
   "execution_count": 7,
   "id": "041cb5fc",
   "metadata": {},
   "outputs": [
    {
     "data": {
      "text/plain": [
       "28816"
      ]
     },
     "execution_count": 7,
     "metadata": {},
     "output_type": "execute_result"
    }
   ],
   "source": [
    "df[\"Invoice\"].nunique()"
   ]
  },
  {
   "cell_type": "markdown",
   "id": "c01263aa",
   "metadata": {},
   "source": [
    "**Income per invoice**\n",
    "\n",
    "**Note = Multiple invoices present in some rows**"
   ]
  },
  {
   "cell_type": "markdown",
   "id": "40867b29",
   "metadata": {},
   "source": [
    "**Removing cancelled transcations (which are our outliers in the dataset)**"
   ]
  },
  {
   "cell_type": "code",
   "execution_count": 8,
   "id": "71f1c2ea",
   "metadata": {},
   "outputs": [],
   "source": [
    "df = df[~df[\"Invoice\"].str.contains(\"C\", na=False)]"
   ]
  },
  {
   "cell_type": "markdown",
   "id": "b3b9de66",
   "metadata": {},
   "source": [
    "**Creating Total Price variable from multiplication of quantities and prices**"
   ]
  },
  {
   "cell_type": "code",
   "execution_count": 9,
   "id": "8d4bd1e8",
   "metadata": {},
   "outputs": [],
   "source": [
    "df[\"TotalPrice\"] = df[\"Quantity\"] * df[\"Price\"]"
   ]
  },
  {
   "cell_type": "markdown",
   "id": "c3c0bf71",
   "metadata": {},
   "source": [
    "**Which products are the most expensive?**"
   ]
  },
  {
   "cell_type": "code",
   "execution_count": 10,
   "id": "af31250b",
   "metadata": {},
   "outputs": [
    {
     "data": {
      "text/html": [
       "<div>\n",
       "<style scoped>\n",
       "    .dataframe tbody tr th:only-of-type {\n",
       "        vertical-align: middle;\n",
       "    }\n",
       "\n",
       "    .dataframe tbody tr th {\n",
       "        vertical-align: top;\n",
       "    }\n",
       "\n",
       "    .dataframe thead th {\n",
       "        text-align: right;\n",
       "    }\n",
       "</style>\n",
       "<table border=\"1\" class=\"dataframe\">\n",
       "  <thead>\n",
       "    <tr style=\"text-align: right;\">\n",
       "      <th></th>\n",
       "      <th>Invoice</th>\n",
       "      <th>StockCode</th>\n",
       "      <th>Description</th>\n",
       "      <th>Quantity</th>\n",
       "      <th>InvoiceDate</th>\n",
       "      <th>Price</th>\n",
       "      <th>Customer ID</th>\n",
       "      <th>Country</th>\n",
       "      <th>TotalPrice</th>\n",
       "    </tr>\n",
       "  </thead>\n",
       "  <tbody>\n",
       "    <tr>\n",
       "      <th>241827</th>\n",
       "      <td>512771</td>\n",
       "      <td>M</td>\n",
       "      <td>Manual</td>\n",
       "      <td>1</td>\n",
       "      <td>2010-06-17 16:53:00</td>\n",
       "      <td>25111.09</td>\n",
       "      <td>NaN</td>\n",
       "      <td>United Kingdom</td>\n",
       "      <td>25111.09</td>\n",
       "    </tr>\n",
       "    <tr>\n",
       "      <th>517955</th>\n",
       "      <td>537632</td>\n",
       "      <td>AMAZONFEE</td>\n",
       "      <td>AMAZON FEE</td>\n",
       "      <td>1</td>\n",
       "      <td>2010-12-07 15:08:00</td>\n",
       "      <td>13541.33</td>\n",
       "      <td>NaN</td>\n",
       "      <td>United Kingdom</td>\n",
       "      <td>13541.33</td>\n",
       "    </tr>\n",
       "    <tr>\n",
       "      <th>135013</th>\n",
       "      <td>502263</td>\n",
       "      <td>M</td>\n",
       "      <td>Manual</td>\n",
       "      <td>1</td>\n",
       "      <td>2010-03-23 15:22:00</td>\n",
       "      <td>10953.50</td>\n",
       "      <td>12918.00</td>\n",
       "      <td>United Kingdom</td>\n",
       "      <td>10953.50</td>\n",
       "    </tr>\n",
       "    <tr>\n",
       "      <th>135015</th>\n",
       "      <td>502265</td>\n",
       "      <td>M</td>\n",
       "      <td>Manual</td>\n",
       "      <td>1</td>\n",
       "      <td>2010-03-23 15:28:00</td>\n",
       "      <td>10953.50</td>\n",
       "      <td>NaN</td>\n",
       "      <td>United Kingdom</td>\n",
       "      <td>10953.50</td>\n",
       "    </tr>\n",
       "    <tr>\n",
       "      <th>342147</th>\n",
       "      <td>522796</td>\n",
       "      <td>M</td>\n",
       "      <td>Manual</td>\n",
       "      <td>1</td>\n",
       "      <td>2010-09-16 15:12:00</td>\n",
       "      <td>10468.80</td>\n",
       "      <td>NaN</td>\n",
       "      <td>United Kingdom</td>\n",
       "      <td>10468.80</td>\n",
       "    </tr>\n",
       "  </tbody>\n",
       "</table>\n",
       "</div>"
      ],
      "text/plain": [
       "       Invoice  StockCode Description  Quantity         InvoiceDate    Price  \\\n",
       "241827  512771          M      Manual         1 2010-06-17 16:53:00 25111.09   \n",
       "517955  537632  AMAZONFEE  AMAZON FEE         1 2010-12-07 15:08:00 13541.33   \n",
       "135013  502263          M      Manual         1 2010-03-23 15:22:00 10953.50   \n",
       "135015  502265          M      Manual         1 2010-03-23 15:28:00 10953.50   \n",
       "342147  522796          M      Manual         1 2010-09-16 15:12:00 10468.80   \n",
       "\n",
       "        Customer ID         Country  TotalPrice  \n",
       "241827          NaN  United Kingdom    25111.09  \n",
       "517955          NaN  United Kingdom    13541.33  \n",
       "135013     12918.00  United Kingdom    10953.50  \n",
       "135015          NaN  United Kingdom    10953.50  \n",
       "342147          NaN  United Kingdom    10468.80  "
      ]
     },
     "execution_count": 10,
     "metadata": {},
     "output_type": "execute_result"
    }
   ],
   "source": [
    "df.sort_values(\"Price\", ascending=False).head()"
   ]
  },
  {
   "cell_type": "markdown",
   "id": "1a504423",
   "metadata": {},
   "source": [
    "**Order per country**"
   ]
  },
  {
   "cell_type": "code",
   "execution_count": 11,
   "id": "522b43b8",
   "metadata": {},
   "outputs": [
    {
     "data": {
      "text/plain": [
       "United Kingdom          477058\n",
       "EIRE                      9460\n",
       "Germany                   7661\n",
       "France                    5532\n",
       "Netherlands               2730\n",
       "Spain                     1235\n",
       "Switzerland               1170\n",
       "Portugal                  1061\n",
       "Belgium                   1038\n",
       "Sweden                     887\n",
       "Channel Islands            821\n",
       "Italy                      710\n",
       "Australia                  630\n",
       "Cyprus                     541\n",
       "Austria                    524\n",
       "Greece                     512\n",
       "Denmark                    418\n",
       "United Arab Emirates       399\n",
       "Norway                     365\n",
       "Finland                    347\n",
       "Unspecified                306\n",
       "USA                        230\n",
       "Poland                     182\n",
       "Malta                      170\n",
       "Japan                      164\n",
       "Lithuania                  154\n",
       "Singapore                  117\n",
       "RSA                        110\n",
       "Bahrain                    106\n",
       "Canada                      77\n",
       "Thailand                    76\n",
       "Hong Kong                   74\n",
       "Israel                      74\n",
       "Iceland                     71\n",
       "Brazil                      62\n",
       "West Indies                 54\n",
       "Korea                       53\n",
       "Bermuda                     34\n",
       "Nigeria                     30\n",
       "Lebanon                     12\n",
       "Name: Country, dtype: int64"
      ]
     },
     "execution_count": 11,
     "metadata": {},
     "output_type": "execute_result"
    }
   ],
   "source": [
    "df[\"Country\"].value_counts()"
   ]
  },
  {
   "cell_type": "markdown",
   "id": "82098f9d",
   "metadata": {},
   "source": [
    "**Income per country**"
   ]
  },
  {
   "cell_type": "code",
   "execution_count": 12,
   "id": "6d2a7679",
   "metadata": {},
   "outputs": [
    {
     "data": {
      "text/html": [
       "<div>\n",
       "<style scoped>\n",
       "    .dataframe tbody tr th:only-of-type {\n",
       "        vertical-align: middle;\n",
       "    }\n",
       "\n",
       "    .dataframe tbody tr th {\n",
       "        vertical-align: top;\n",
       "    }\n",
       "\n",
       "    .dataframe thead th {\n",
       "        text-align: right;\n",
       "    }\n",
       "</style>\n",
       "<table border=\"1\" class=\"dataframe\">\n",
       "  <thead>\n",
       "    <tr style=\"text-align: right;\">\n",
       "      <th></th>\n",
       "      <th>TotalPrice</th>\n",
       "    </tr>\n",
       "    <tr>\n",
       "      <th>Country</th>\n",
       "      <th></th>\n",
       "    </tr>\n",
       "  </thead>\n",
       "  <tbody>\n",
       "    <tr>\n",
       "      <th>United Kingdom</th>\n",
       "      <td>8709203.67</td>\n",
       "    </tr>\n",
       "    <tr>\n",
       "      <th>EIRE</th>\n",
       "      <td>380977.82</td>\n",
       "    </tr>\n",
       "    <tr>\n",
       "      <th>Netherlands</th>\n",
       "      <td>268786.00</td>\n",
       "    </tr>\n",
       "    <tr>\n",
       "      <th>Germany</th>\n",
       "      <td>202395.32</td>\n",
       "    </tr>\n",
       "    <tr>\n",
       "      <th>France</th>\n",
       "      <td>147211.49</td>\n",
       "    </tr>\n",
       "  </tbody>\n",
       "</table>\n",
       "</div>"
      ],
      "text/plain": [
       "                TotalPrice\n",
       "Country                   \n",
       "United Kingdom  8709203.67\n",
       "EIRE             380977.82\n",
       "Netherlands      268786.00\n",
       "Germany          202395.32\n",
       "France           147211.49"
      ]
     },
     "execution_count": 12,
     "metadata": {},
     "output_type": "execute_result"
    }
   ],
   "source": [
    "df.groupby(\"Country\").agg({\"TotalPrice\": \"sum\"}).sort_values(\"TotalPrice\", ascending=False).head()"
   ]
  },
  {
   "cell_type": "markdown",
   "id": "56806e76",
   "metadata": {},
   "source": [
    "**Data Preperation**"
   ]
  },
  {
   "cell_type": "code",
   "execution_count": 13,
   "id": "58d119a2",
   "metadata": {},
   "outputs": [
    {
     "data": {
      "text/html": [
       "<div>\n",
       "<style scoped>\n",
       "    .dataframe tbody tr th:only-of-type {\n",
       "        vertical-align: middle;\n",
       "    }\n",
       "\n",
       "    .dataframe tbody tr th {\n",
       "        vertical-align: top;\n",
       "    }\n",
       "\n",
       "    .dataframe thead th {\n",
       "        text-align: right;\n",
       "    }\n",
       "</style>\n",
       "<table border=\"1\" class=\"dataframe\">\n",
       "  <thead>\n",
       "    <tr style=\"text-align: right;\">\n",
       "      <th></th>\n",
       "      <th>count</th>\n",
       "      <th>mean</th>\n",
       "      <th>std</th>\n",
       "      <th>min</th>\n",
       "      <th>1%</th>\n",
       "      <th>5%</th>\n",
       "      <th>10%</th>\n",
       "      <th>25%</th>\n",
       "      <th>50%</th>\n",
       "      <th>75%</th>\n",
       "      <th>90%</th>\n",
       "      <th>95%</th>\n",
       "      <th>99%</th>\n",
       "      <th>max</th>\n",
       "    </tr>\n",
       "  </thead>\n",
       "  <tbody>\n",
       "    <tr>\n",
       "      <th>Quantity</th>\n",
       "      <td>407695.00</td>\n",
       "      <td>13.59</td>\n",
       "      <td>96.84</td>\n",
       "      <td>1.00</td>\n",
       "      <td>1.00</td>\n",
       "      <td>1.00</td>\n",
       "      <td>1.00</td>\n",
       "      <td>2.00</td>\n",
       "      <td>5.00</td>\n",
       "      <td>12.00</td>\n",
       "      <td>24.00</td>\n",
       "      <td>36.00</td>\n",
       "      <td>144.00</td>\n",
       "      <td>19152.00</td>\n",
       "    </tr>\n",
       "    <tr>\n",
       "      <th>Price</th>\n",
       "      <td>407695.00</td>\n",
       "      <td>3.29</td>\n",
       "      <td>34.76</td>\n",
       "      <td>0.00</td>\n",
       "      <td>0.29</td>\n",
       "      <td>0.42</td>\n",
       "      <td>0.65</td>\n",
       "      <td>1.25</td>\n",
       "      <td>1.95</td>\n",
       "      <td>3.75</td>\n",
       "      <td>6.75</td>\n",
       "      <td>8.50</td>\n",
       "      <td>14.95</td>\n",
       "      <td>10953.50</td>\n",
       "    </tr>\n",
       "    <tr>\n",
       "      <th>Customer ID</th>\n",
       "      <td>407695.00</td>\n",
       "      <td>15368.50</td>\n",
       "      <td>1679.80</td>\n",
       "      <td>12346.00</td>\n",
       "      <td>12435.00</td>\n",
       "      <td>12731.00</td>\n",
       "      <td>13044.00</td>\n",
       "      <td>13997.00</td>\n",
       "      <td>15321.00</td>\n",
       "      <td>16812.00</td>\n",
       "      <td>17706.00</td>\n",
       "      <td>17913.00</td>\n",
       "      <td>18196.00</td>\n",
       "      <td>18287.00</td>\n",
       "    </tr>\n",
       "    <tr>\n",
       "      <th>TotalPrice</th>\n",
       "      <td>407695.00</td>\n",
       "      <td>21.66</td>\n",
       "      <td>77.15</td>\n",
       "      <td>0.00</td>\n",
       "      <td>0.65</td>\n",
       "      <td>1.25</td>\n",
       "      <td>2.10</td>\n",
       "      <td>4.95</td>\n",
       "      <td>11.90</td>\n",
       "      <td>19.50</td>\n",
       "      <td>35.70</td>\n",
       "      <td>67.50</td>\n",
       "      <td>201.60</td>\n",
       "      <td>15818.40</td>\n",
       "    </tr>\n",
       "  </tbody>\n",
       "</table>\n",
       "</div>"
      ],
      "text/plain": [
       "                count     mean     std      min       1%       5%      10%  \\\n",
       "Quantity    407695.00    13.59   96.84     1.00     1.00     1.00     1.00   \n",
       "Price       407695.00     3.29   34.76     0.00     0.29     0.42     0.65   \n",
       "Customer ID 407695.00 15368.50 1679.80 12346.00 12435.00 12731.00 13044.00   \n",
       "TotalPrice  407695.00    21.66   77.15     0.00     0.65     1.25     2.10   \n",
       "\n",
       "                 25%      50%      75%      90%      95%      99%      max  \n",
       "Quantity        2.00     5.00    12.00    24.00    36.00   144.00 19152.00  \n",
       "Price           1.25     1.95     3.75     6.75     8.50    14.95 10953.50  \n",
       "Customer ID 13997.00 15321.00 16812.00 17706.00 17913.00 18196.00 18287.00  \n",
       "TotalPrice      4.95    11.90    19.50    35.70    67.50   201.60 15818.40  "
      ]
     },
     "execution_count": 13,
     "metadata": {},
     "output_type": "execute_result"
    }
   ],
   "source": [
    "df.isnull().sum()\n",
    "df.dropna(inplace=True)\n",
    "df.describe([0.01, 0.05, 0.10, 0.25, 0.50, 0.75, 0.90, 0.95, 0.99]).T"
   ]
  },
  {
   "cell_type": "markdown",
   "id": "3c0b63d3",
   "metadata": {},
   "source": [
    "## Part Two: Calculating RFM Metrics\n",
    "\n",
    "Recency, Frequency, Monetary ifadelerinin baş harflerinden oluşur.\n",
    "\n",
    "Müşterilerin satın alma alışkanlıkları üzerinden pazarlama ve satış stratejileri belirlemeye yardımcı olan bir tekniktir.\n",
    "\n",
    "Recency (yenilik): Müşterinin son satın almasından bugüne kadar geçen süre\n",
    "\n",
    "Frequency (Sıklık): Toplam satın alma sayısı.\n",
    "\n",
    "Monetary (Parasal Değer): Müşterinin yaptığı toplam harcama.\n"
   ]
  },
  {
   "cell_type": "code",
   "execution_count": 14,
   "id": "02b63c82",
   "metadata": {},
   "outputs": [],
   "source": [
    "df[\"InvoiceDate\"].max()\n",
    "\n",
    "today_date = dt.datetime(2010, 12, 11)\n",
    "\n",
    "rfm = df.groupby('Customer ID').agg({'InvoiceDate': lambda date: (today_date - date.max()).days,\n",
    "                                     'Invoice': lambda num: len(num),\n",
    "                                     'TotalPrice': lambda TotalPrice: TotalPrice.sum()})\n",
    "\n",
    "\n",
    "rfm.columns = ['Recency', 'Frequency', 'Monetary']\n",
    "\n",
    "rfm = rfm[(rfm[\"Monetary\"]) > 0 & (rfm[\"Frequency\"] > 0)]"
   ]
  },
  {
   "cell_type": "markdown",
   "id": "de86f164",
   "metadata": {},
   "source": [
    "**Calculating RFM Scores**"
   ]
  },
  {
   "cell_type": "code",
   "execution_count": 15,
   "id": "ab29fa17",
   "metadata": {},
   "outputs": [
    {
     "data": {
      "text/html": [
       "<div>\n",
       "<style scoped>\n",
       "    .dataframe tbody tr th:only-of-type {\n",
       "        vertical-align: middle;\n",
       "    }\n",
       "\n",
       "    .dataframe tbody tr th {\n",
       "        vertical-align: top;\n",
       "    }\n",
       "\n",
       "    .dataframe thead th {\n",
       "        text-align: right;\n",
       "    }\n",
       "</style>\n",
       "<table border=\"1\" class=\"dataframe\">\n",
       "  <thead>\n",
       "    <tr style=\"text-align: right;\">\n",
       "      <th></th>\n",
       "      <th>Recency</th>\n",
       "      <th>Frequency</th>\n",
       "      <th>Monetary</th>\n",
       "      <th>RecencyScore</th>\n",
       "      <th>FrequencyScore</th>\n",
       "      <th>MonetaryScore</th>\n",
       "      <th>RFM_SCORE</th>\n",
       "    </tr>\n",
       "    <tr>\n",
       "      <th>Customer ID</th>\n",
       "      <th></th>\n",
       "      <th></th>\n",
       "      <th></th>\n",
       "      <th></th>\n",
       "      <th></th>\n",
       "      <th></th>\n",
       "      <th></th>\n",
       "    </tr>\n",
       "  </thead>\n",
       "  <tbody>\n",
       "    <tr>\n",
       "      <th>12415.00</th>\n",
       "      <td>11</td>\n",
       "      <td>212</td>\n",
       "      <td>19543.84</td>\n",
       "      <td>5</td>\n",
       "      <td>5</td>\n",
       "      <td>5</td>\n",
       "      <td>555</td>\n",
       "    </tr>\n",
       "    <tr>\n",
       "      <th>12431.00</th>\n",
       "      <td>9</td>\n",
       "      <td>170</td>\n",
       "      <td>4370.52</td>\n",
       "      <td>5</td>\n",
       "      <td>5</td>\n",
       "      <td>5</td>\n",
       "      <td>555</td>\n",
       "    </tr>\n",
       "    <tr>\n",
       "      <th>12433.00</th>\n",
       "      <td>2</td>\n",
       "      <td>286</td>\n",
       "      <td>7205.39</td>\n",
       "      <td>5</td>\n",
       "      <td>5</td>\n",
       "      <td>5</td>\n",
       "      <td>555</td>\n",
       "    </tr>\n",
       "    <tr>\n",
       "      <th>12471.00</th>\n",
       "      <td>10</td>\n",
       "      <td>678</td>\n",
       "      <td>20139.74</td>\n",
       "      <td>5</td>\n",
       "      <td>5</td>\n",
       "      <td>5</td>\n",
       "      <td>555</td>\n",
       "    </tr>\n",
       "    <tr>\n",
       "      <th>12472.00</th>\n",
       "      <td>5</td>\n",
       "      <td>572</td>\n",
       "      <td>11308.48</td>\n",
       "      <td>5</td>\n",
       "      <td>5</td>\n",
       "      <td>5</td>\n",
       "      <td>555</td>\n",
       "    </tr>\n",
       "  </tbody>\n",
       "</table>\n",
       "</div>"
      ],
      "text/plain": [
       "             Recency  Frequency  Monetary RecencyScore FrequencyScore  \\\n",
       "Customer ID                                                             \n",
       "12415.00          11        212  19543.84            5              5   \n",
       "12431.00           9        170   4370.52            5              5   \n",
       "12433.00           2        286   7205.39            5              5   \n",
       "12471.00          10        678  20139.74            5              5   \n",
       "12472.00           5        572  11308.48            5              5   \n",
       "\n",
       "            MonetaryScore RFM_SCORE  \n",
       "Customer ID                          \n",
       "12415.00                5       555  \n",
       "12431.00                5       555  \n",
       "12433.00                5       555  \n",
       "12471.00                5       555  \n",
       "12472.00                5       555  "
      ]
     },
     "execution_count": 15,
     "metadata": {},
     "output_type": "execute_result"
    }
   ],
   "source": [
    "# Recency\n",
    "rfm[\"RecencyScore\"] = pd.qcut(rfm['Recency'], 5, labels=[5, 4, 3, 2, 1])\n",
    "\n",
    "rfm[\"FrequencyScore\"] = pd.qcut(rfm['Frequency'], 5, labels=[1, 2, 3, 4, 5])\n",
    "\n",
    "rfm[\"MonetaryScore\"] = pd.qcut(rfm['Monetary'], 5, labels=[1, 2, 3, 4, 5])\n",
    "\n",
    "\n",
    "rfm[\"RFM_SCORE\"] = (rfm['RecencyScore'].astype(str) +\n",
    "                    rfm['FrequencyScore'].astype(str) +\n",
    "                    rfm['MonetaryScore'].astype(str))\n",
    "\n",
    "\n",
    "rfm[rfm[\"RFM_SCORE\"] == \"555\"].head()"
   ]
  },
  {
   "cell_type": "markdown",
   "id": "2714ccce",
   "metadata": {},
   "source": [
    "**Naming & Analysing RFM Segments**"
   ]
  },
  {
   "cell_type": "code",
   "execution_count": 16,
   "id": "5d16bdb0",
   "metadata": {},
   "outputs": [],
   "source": [
    "seg_map = {\n",
    "    r'[1-2][1-2]': 'Hibernating',\n",
    "    r'[1-2][3-4]': 'At_Risk',\n",
    "    r'[1-2]5': 'Cant_Loose',\n",
    "    r'3[1-2]': 'About_to_Sleep',\n",
    "    r'33': 'Need_Attention',\n",
    "    r'[3-4][4-5]': 'Loyal_Customers',\n",
    "    r'41': 'Promising',\n",
    "    r'51': 'New_Customers',\n",
    "    r'[4-5][2-3]': 'Potential_Loyalists',\n",
    "    r'5[4-5]': 'Champions'\n",
    "}\n",
    "\n",
    "rfm\n",
    "\n",
    "rfm['Segment'] = rfm['RecencyScore'].astype(str) + rfm['FrequencyScore'].astype(str)\n",
    "\n",
    "rfm['Segment'] = rfm['Segment'].replace(seg_map, regex=True)\n",
    "df[[\"Customer ID\"]].nunique()\n",
    "rfm[[\"Segment\", \"Recency\", \"Frequency\", \"Monetary\"]].groupby(\"Segment\").agg([\"mean\", \"count\"])\n",
    "\n",
    "rfm[rfm[\"Segment\"] == \"Need_Attention\"].head()\n",
    "rfm[rfm[\"Segment\"] == \"Need_Attention\"].index\n",
    "\n",
    "new_df = pd.DataFrame()\n",
    "\n",
    "new_df[\"Need_Attention\"] = rfm[rfm[\"Segment\"] == \"Need_Attention\"].index\n",
    "\n",
    "new_df.to_csv(\"ExportedCustomers/Need_Attention.csv\")"
   ]
  },
  {
   "cell_type": "code",
   "execution_count": 17,
   "id": "8a1cf85f",
   "metadata": {},
   "outputs": [
    {
     "data": {
      "text/html": [
       "<div>\n",
       "<style scoped>\n",
       "    .dataframe tbody tr th:only-of-type {\n",
       "        vertical-align: middle;\n",
       "    }\n",
       "\n",
       "    .dataframe tbody tr th {\n",
       "        vertical-align: top;\n",
       "    }\n",
       "\n",
       "    .dataframe thead th {\n",
       "        text-align: right;\n",
       "    }\n",
       "</style>\n",
       "<table border=\"1\" class=\"dataframe\">\n",
       "  <thead>\n",
       "    <tr style=\"text-align: right;\">\n",
       "      <th></th>\n",
       "      <th>Recency</th>\n",
       "      <th>Frequency</th>\n",
       "      <th>Monetary</th>\n",
       "      <th>RecencyScore</th>\n",
       "      <th>FrequencyScore</th>\n",
       "      <th>MonetaryScore</th>\n",
       "      <th>RFM_SCORE</th>\n",
       "      <th>Segment</th>\n",
       "    </tr>\n",
       "    <tr>\n",
       "      <th>Customer ID</th>\n",
       "      <th></th>\n",
       "      <th></th>\n",
       "      <th></th>\n",
       "      <th></th>\n",
       "      <th></th>\n",
       "      <th></th>\n",
       "      <th></th>\n",
       "      <th></th>\n",
       "    </tr>\n",
       "  </thead>\n",
       "  <tbody>\n",
       "    <tr>\n",
       "      <th>12346.00</th>\n",
       "      <td>165</td>\n",
       "      <td>33</td>\n",
       "      <td>372.86</td>\n",
       "      <td>2</td>\n",
       "      <td>3</td>\n",
       "      <td>2</td>\n",
       "      <td>232</td>\n",
       "      <td>At_Risk</td>\n",
       "    </tr>\n",
       "    <tr>\n",
       "      <th>12347.00</th>\n",
       "      <td>3</td>\n",
       "      <td>71</td>\n",
       "      <td>1323.32</td>\n",
       "      <td>5</td>\n",
       "      <td>4</td>\n",
       "      <td>4</td>\n",
       "      <td>544</td>\n",
       "      <td>Champions</td>\n",
       "    </tr>\n",
       "    <tr>\n",
       "      <th>12348.00</th>\n",
       "      <td>74</td>\n",
       "      <td>20</td>\n",
       "      <td>222.16</td>\n",
       "      <td>2</td>\n",
       "      <td>2</td>\n",
       "      <td>1</td>\n",
       "      <td>221</td>\n",
       "      <td>Hibernating</td>\n",
       "    </tr>\n",
       "    <tr>\n",
       "      <th>12349.00</th>\n",
       "      <td>43</td>\n",
       "      <td>102</td>\n",
       "      <td>2671.14</td>\n",
       "      <td>3</td>\n",
       "      <td>4</td>\n",
       "      <td>5</td>\n",
       "      <td>345</td>\n",
       "      <td>Loyal_Customers</td>\n",
       "    </tr>\n",
       "    <tr>\n",
       "      <th>12351.00</th>\n",
       "      <td>11</td>\n",
       "      <td>21</td>\n",
       "      <td>300.93</td>\n",
       "      <td>5</td>\n",
       "      <td>2</td>\n",
       "      <td>2</td>\n",
       "      <td>522</td>\n",
       "      <td>Potential_Loyalists</td>\n",
       "    </tr>\n",
       "  </tbody>\n",
       "</table>\n",
       "</div>"
      ],
      "text/plain": [
       "             Recency  Frequency  Monetary RecencyScore FrequencyScore  \\\n",
       "Customer ID                                                             \n",
       "12346.00         165         33    372.86            2              3   \n",
       "12347.00           3         71   1323.32            5              4   \n",
       "12348.00          74         20    222.16            2              2   \n",
       "12349.00          43        102   2671.14            3              4   \n",
       "12351.00          11         21    300.93            5              2   \n",
       "\n",
       "            MonetaryScore RFM_SCORE              Segment  \n",
       "Customer ID                                               \n",
       "12346.00                2       232              At_Risk  \n",
       "12347.00                4       544            Champions  \n",
       "12348.00                1       221          Hibernating  \n",
       "12349.00                5       345      Loyal_Customers  \n",
       "12351.00                2       522  Potential_Loyalists  "
      ]
     },
     "execution_count": 17,
     "metadata": {},
     "output_type": "execute_result"
    }
   ],
   "source": [
    "rfm.head()"
   ]
  },
  {
   "cell_type": "code",
   "execution_count": 18,
   "id": "34471138",
   "metadata": {},
   "outputs": [
    {
     "data": {
      "text/html": [
       "<div>\n",
       "<style scoped>\n",
       "    .dataframe tbody tr th:only-of-type {\n",
       "        vertical-align: middle;\n",
       "    }\n",
       "\n",
       "    .dataframe tbody tr th {\n",
       "        vertical-align: top;\n",
       "    }\n",
       "\n",
       "    .dataframe thead th {\n",
       "        text-align: right;\n",
       "    }\n",
       "</style>\n",
       "<table border=\"1\" class=\"dataframe\">\n",
       "  <thead>\n",
       "    <tr style=\"text-align: right;\">\n",
       "      <th></th>\n",
       "      <th>count</th>\n",
       "      <th>mean</th>\n",
       "      <th>std</th>\n",
       "      <th>min</th>\n",
       "      <th>25%</th>\n",
       "      <th>50%</th>\n",
       "      <th>75%</th>\n",
       "      <th>max</th>\n",
       "    </tr>\n",
       "  </thead>\n",
       "  <tbody>\n",
       "    <tr>\n",
       "      <th>Recency</th>\n",
       "      <td>112.00</td>\n",
       "      <td>24.99</td>\n",
       "      <td>5.93</td>\n",
       "      <td>16.00</td>\n",
       "      <td>21.00</td>\n",
       "      <td>25.00</td>\n",
       "      <td>30.00</td>\n",
       "      <td>36.00</td>\n",
       "    </tr>\n",
       "    <tr>\n",
       "      <th>Frequency</th>\n",
       "      <td>112.00</td>\n",
       "      <td>8.62</td>\n",
       "      <td>4.15</td>\n",
       "      <td>1.00</td>\n",
       "      <td>5.75</td>\n",
       "      <td>9.00</td>\n",
       "      <td>12.00</td>\n",
       "      <td>15.00</td>\n",
       "    </tr>\n",
       "    <tr>\n",
       "      <th>Monetary</th>\n",
       "      <td>112.00</td>\n",
       "      <td>456.51</td>\n",
       "      <td>749.37</td>\n",
       "      <td>24.35</td>\n",
       "      <td>132.84</td>\n",
       "      <td>224.25</td>\n",
       "      <td>412.41</td>\n",
       "      <td>4742.00</td>\n",
       "    </tr>\n",
       "  </tbody>\n",
       "</table>\n",
       "</div>"
      ],
      "text/plain": [
       "           count   mean    std   min    25%    50%    75%     max\n",
       "Recency   112.00  24.99   5.93 16.00  21.00  25.00  30.00   36.00\n",
       "Frequency 112.00   8.62   4.15  1.00   5.75   9.00  12.00   15.00\n",
       "Monetary  112.00 456.51 749.37 24.35 132.84 224.25 412.41 4742.00"
      ]
     },
     "execution_count": 18,
     "metadata": {},
     "output_type": "execute_result"
    }
   ],
   "source": [
    "rfm[rfm[\"Segment\"] == \"Hibernating\"].describe().T\n",
    "#Hibernating has a great M value which should be revived.\n",
    "rfm[rfm[\"Segment\"] == \"Need_Attention\"].describe().T\n",
    "#These are worse than hibernating.\n",
    "rfm[rfm[\"Segment\"] == \"Promising\"].describe().T\n",
    "#Promising should be more \"promising\" Their recency value is too low but frequency is okayish\n",
    "\n",
    "#Can we able to save this sinking ship from its fate?"
   ]
  },
  {
   "cell_type": "markdown",
   "id": "e66fd46a",
   "metadata": {},
   "source": [
    "**Exporting the loyal customers**"
   ]
  },
  {
   "cell_type": "code",
   "execution_count": 19,
   "id": "576cff93",
   "metadata": {},
   "outputs": [],
   "source": [
    "exported_df = pd.DataFrame()\n",
    "\n",
    "exported_df[\"Loyal_Customers\"] = rfm[rfm[\"Segment\"] == \"Loyal_Customers\"].index\n",
    "\n",
    "exported_df.to_csv(\"ExportedCustomers/Loyal_Customers.csv\")\n",
    "rfm.to_csv(\"ExportedCustomers/rfm.csv\")\n",
    "\n",
    "group = rfm[[\"Segment\", \"Recency\", \"Frequency\", \"Monetary\"]].groupby(\"Segment\").agg(\n",
    "    [\"mean\", \"count\", \"median\"])\n",
    "\n",
    "\n",
    "group.to_csv(\"ExportedCustomers/groupp_agg.csv\")"
   ]
  }
 ],
 "metadata": {
  "kernelspec": {
   "display_name": "Python 3 (ipykernel)",
   "language": "python",
   "name": "python3"
  },
  "language_info": {
   "codemirror_mode": {
    "name": "ipython",
    "version": 3
   },
   "file_extension": ".py",
   "mimetype": "text/x-python",
   "name": "python",
   "nbconvert_exporter": "python",
   "pygments_lexer": "ipython3",
   "version": "3.9.7"
  }
 },
 "nbformat": 4,
 "nbformat_minor": 5
}
